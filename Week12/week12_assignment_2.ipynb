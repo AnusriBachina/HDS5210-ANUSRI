{
  "cells": [
    {
      "cell_type": "markdown",
      "metadata": {
        "id": "D9_IjoIHoszV"
      },
      "source": [
        "# Week 11 Assignment\n",
        "\n",
        "\n",
        "Please do the programming exercise and verify that your code works using the tests, then think about your final project and fill out the questions in the second part.\n",
        "\n",
        "---\n",
        "---"
      ]
    },
    {
      "cell_type": "markdown",
      "metadata": {
        "id": "rU4H8k94oszX"
      },
      "source": [
        "### 47.1: Filtering and summarizing data\n",
        "\n",
        "For this work, you'll find a data file in `https://hds5210-data.s3.amazonaws.com/complications_all.csv`.\n",
        "\n",
        "Read in the data file and create a variable called `mo_hospitals` that contains a data frame from the `complications_all.csv` file, filtered down to only contain those hospitals from the state of Missouri (MO).\n",
        "\n",
        "Then aggregate that data by hospital into a variable named `mo_summary`.  There are some key fields that we want to summarize:\n",
        "* We want to know the earliest date that each hospital was participating in any program\n",
        "* We want to know the latest date that each hospital stopped participating in any program\n",
        "* We want to know the total number of patients in the denominators of these programs\n",
        "\n",
        "Some things to note:\n",
        "* You will need to convert the `Start Date` and `End Date` to actual datetime fields\n",
        "* You will need to clean up and convert the `Denominator` field to just be numeric - the rule that you should use it to simply remove any records where the `Denominator` is `'Not Available'`\n",
        "\n",
        "\n",
        "The final result of this step should be a new data frame called `mo_summary` that contains one row for each hospital and contains the min start date, max end date, and total denominator.  Use the names `start_date`, `end_date`, and `number` for those columns in `mo_summary`.\n",
        "\n",
        "\n",
        "You do not need to create your code in the form of a function, just make sure your variable names match what I've described above so the tests work."
      ]
    },
    {
      "cell_type": "code",
      "execution_count": 2,
      "metadata": {
        "id": "0Paek_v8oszY"
      },
      "outputs": [],
      "source": [
        "import pandas as pd\n",
        "# This is just to show you the name to use for the variable you need to create for this step to pass.\n",
        "all_hospitals = pd.read_csv('https://hds5210-data.s3.amazonaws.com/complications_all.csv')\n"
      ]
    },
    {
      "cell_type": "code",
      "execution_count": null,
      "metadata": {
        "id": "2y8HuxlKoszY"
      },
      "outputs": [],
      "source": [
        "# Do you work here and in as many cells as you need to create a variable called `mo_summary` that matches the requirements"
      ]
    },
    {
      "cell_type": "code",
      "source": [
        "import pandas as pd\n",
        "#Read Datafile\n",
        "hospitals_data = pd.read_csv('https://hds5210-data.s3.amazonaws.com/complications_all.csv')\n",
        "#Filter Data\n",
        "mo_hospitals = hospitals_data[hospitals_data['State'] == 'MO']\n",
        "#Removing data where Denominator as 'Not Available'\n",
        "mo_hospitals = mo_hospitals[mo_hospitals['Denominator'] !='Not Available']\n",
        "#Convert the Start Date and End Date to actual datetime fields\n",
        "mo_hospitals['Start Date'] = pd.to_datetime(mo_hospitals['Start Date'])\n",
        "mo_hospitals['End Date'] = pd.to_datetime(mo_hospitals['End Date'])\n",
        "#Convert the 'Denominator' to just be numerical field to get correct output\n",
        "mo_hospitals['Denominator'] = mo_hospitals['Denominator'].apply(lambda x: pd.to_numeric(x))\n",
        "#Aggregating data by hospital name\n",
        "mo_summary = (mo_hospitals.groupby('Facility Name').agg(start_date=('Start Date', lambda x: min(x)), end_date = ('End Date', lambda x: max(x)), number = ('Denominator', lambda x: x.sum())))\n",
        "#Output\n",
        "print(mo_summary)"
      ],
      "metadata": {
        "id": "8qhpxmjnqZRr",
        "outputId": "346c8a16-1de7-4187-b0c3-3787ff985279",
        "colab": {
          "base_uri": "https://localhost:8080/"
        }
      },
      "execution_count": 1,
      "outputs": [
        {
          "output_type": "stream",
          "name": "stdout",
          "text": [
            "                                    start_date   end_date  number\n",
            "Facility Name                                                    \n",
            "BARNES JEWISH HOSPITAL              2015-04-01 2018-06-30  131313\n",
            "BARNES-JEWISH ST PETERS HOSPITAL    2015-04-01 2018-06-30   15668\n",
            "BARNES-JEWISH WEST COUNTY HOSPITAL  2015-04-01 2018-06-30    9622\n",
            "BATES COUNTY MEMORIAL HOSPITAL      2015-07-01 2018-06-30    3117\n",
            "BELTON REGIONAL MEDICAL CENTER      2015-04-01 2018-06-30    9270\n",
            "...                                        ...        ...     ...\n",
            "TRUMAN MEDICAL CENTER LAKEWOOD      2015-04-01 2018-06-30    4297\n",
            "UNIVERSITY OF MISSOURI HEALTH CARE  2015-04-01 2018-06-30   56493\n",
            "WASHINGTON COUNTY MEMORIAL HOSPITAL 2015-07-01 2018-06-30     220\n",
            "WESTERN MISSOURI MEDICAL CENTER     2015-04-01 2018-06-30    7254\n",
            "WRIGHT MEMORIAL HOSPITAL            2015-07-01 2018-06-30     198\n",
            "\n",
            "[108 rows x 3 columns]\n"
          ]
        }
      ]
    },
    {
      "cell_type": "code",
      "execution_count": 3,
      "metadata": {
        "id": "bZMRGTN8oszZ"
      },
      "outputs": [],
      "source": [
        "assert(mo_summary['number'].sum() == 1766908)\n",
        "assert(mo_summary['start_date'].min() == pd.Timestamp(2015,4,1))\n",
        "assert(mo_summary['end_date'].max() == pd.Timestamp(2018,6,30))\n",
        "assert(mo_summary.shape == (108,3))\n",
        "assert(mo_summary.loc['BARNES JEWISH HOSPITAL'].number == 131313)\n",
        "assert(mo_summary.loc['BOONE HOSPITAL CENTER'].number == 63099)"
      ]
    },
    {
      "cell_type": "markdown",
      "metadata": {
        "id": "CiPDIrpjoszZ"
      },
      "source": [
        "---\n",
        "\n",
        "### 47.2 Planning your final project\n",
        "\n",
        "You should be thinking about the things we've been learning and how you can apply them to your final project.  Use the rubric to help guid your thinking and then answer the questions below.  This is meant as a guide to help you think through what you will do."
      ]
    },
    {
      "cell_type": "markdown",
      "metadata": {
        "id": "kWQcknJloszZ"
      },
      "source": [
        "#### A) Data Access\n",
        "\n",
        "Your project should include data from at least three distinct types of sources.  For example: AWS S3, Relational Databases, Internet, Web Services, local files.  List what data sources you're planning to use."
      ]
    },
    {
      "cell_type": "markdown",
      "metadata": {
        "id": "aUhMiNNgoszZ"
      },
      "source": [
        "**Double-click to enter your answer**\n",
        "\n",
        "Put your answer here\n",
        "\n",
        "\n",
        "I intend to use health data from a number of reliable sources, such as Healthdata.gov (https://healthdata.gov/State/Adults-with-Diabetes-Per-100-LGHC-Indicator-/e2it-mjad), Kaggle (https://www.kaggle.com/), and the CDC's demographic data (https://data.census.gov/table/ACSDP1Y2022.DP05?q=demographics). AWS S3 (https://aws.amazon.com/search/?searchQuery=diabetes) will also be the source of demographic information and medical records, and I want to include local files for additional analysis.\n",
        "\n"
      ]
    },
    {
      "cell_type": "markdown",
      "metadata": {
        "id": "r8XoRl6moszZ"
      },
      "source": [
        "#### B. Data Formats\n",
        "\n",
        "Your project should include data that comes in different file formats.  For example: HL7, EDI, HTML, CSV, Excel, JSON, XML.  List what data formats you're planning to use."
      ]
    },
    {
      "cell_type": "markdown",
      "metadata": {
        "id": "Bj5OMlxyosza"
      },
      "source": [
        "**Double-click to enter your answer**\n",
        "\n",
        "Put your answer here\n",
        "\n",
        "I am planing to use :- 1.JSON 2.CSV 3.XML 4.Excel\n"
      ]
    },
    {
      "cell_type": "markdown",
      "metadata": {
        "id": "vI090ULyosza"
      },
      "source": [
        "#### C. Objective\n",
        "\n",
        "What purpose would your project serve in a real work setting?  Take a couple of paragraphs to write down why this is an interesting product."
      ]
    },
    {
      "cell_type": "markdown",
      "metadata": {
        "id": "Hw_G-rQxosza"
      },
      "source": [
        "**Double-click to enter your answer**\n",
        "\n",
        "Put your answer here\n",
        "\n",
        "I want to work on a research that looks into the demographic differences in diabetes and heart disease in a certain state, taking socioeconomic, age, and gender into account.\n",
        "\n",
        "--> My project's goal is to leverage demographic variations in heart disease and diabetes rates as a vital tool for making well-informed healthcare decisions. In order to offer practical insights that facilitate the development of tailored solutions, the research examines variations in age, gender, ethnicity, and socioeconomic status.\n",
        "\n",
        "For legislators and healthcare providers, these findings are a valuable source of information that advances health fairness. Additionally, the project promotes community-specific programs and preventative care activities by facilitating proactive healthcare measures.\n",
        "\n",
        "In conclusion, by offering a thorough grasp of demographic trends that can guide more focused and efficient public health initiatives, our research significantly reduces health disparities.\n"
      ]
    },
    {
      "cell_type": "markdown",
      "metadata": {
        "id": "X1ANGfy4osza"
      },
      "source": [
        "\n",
        "\n",
        "---\n",
        "\n",
        "\n",
        "\n",
        "## Submit your work via GitHub as normal\n"
      ]
    }
  ],
  "metadata": {
    "kernelspec": {
      "display_name": "Python 3",
      "language": "python",
      "name": "python3"
    },
    "language_info": {
      "codemirror_mode": {
        "name": "ipython",
        "version": 3
      },
      "file_extension": ".py",
      "mimetype": "text/x-python",
      "name": "python",
      "nbconvert_exporter": "python",
      "pygments_lexer": "ipython3",
      "version": "3.9.16"
    },
    "colab": {
      "provenance": []
    }
  },
  "nbformat": 4,
  "nbformat_minor": 0
}