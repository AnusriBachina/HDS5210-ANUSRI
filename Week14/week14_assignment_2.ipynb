{
  "cells": [
    {
      "cell_type": "markdown",
      "metadata": {
        "nbgrader": {
          "grade": false,
          "grade_id": "cell-fc1c39d0d6f8b82a",
          "locked": true,
          "schema_version": 1,
          "solution": false
        },
        "id": "XhlKkeZ11xR7"
      },
      "source": [
        "# Week 14 Programming Assignment\n",
        "\n",
        "As you're working on identifying data for your final project, it's helpful to spend some time exploring your various data files.  For this week's assignment, I'd like you to take a few of the ideas from the the lectures, review assignment, and tonight's lecture to start exploring the data you plan to use for the final project.\n",
        "\n",
        "For the following activities, you can use just one of the data files that you've identified, or you can do the activities using different data files.  That's up to you.  Please describe what you're doing in a Markdown cell or in the comments of your code.  When you've completed the assignment, submit it as normal."
      ]
    },
    {
      "cell_type": "markdown",
      "metadata": {
        "id": "3oKZ-B_x1xR8"
      },
      "source": [
        "### 1. Basic Statistics\n",
        "\n",
        "Use Python to read in your data file and show many rows and columns your data has."
      ]
    },
    {
      "cell_type": "code",
      "execution_count": 7,
      "metadata": {
        "id": "emKuhAoc1xR8",
        "outputId": "5679e871-bf27-4122-8975-ae5ccbe2e73c",
        "colab": {
          "base_uri": "https://localhost:8080/"
        }
      },
      "outputs": [
        {
          "output_type": "stream",
          "name": "stdout",
          "text": [
            "Mounted at /content/drive\n",
            "Number of rows: 6395\n",
            "Number of columns: 19\n"
          ]
        }
      ],
      "source": [
        "import pandas as pd\n",
        "from google.colab import drive\n",
        "drive.mount('/content/drive')\n",
        "import pandas as pd\n",
        "\n",
        "#reading file\n",
        "file_path = '/content/drive/My Drive/ca_ssi_adult_odp_2023.csv'\n",
        "data = pd.read_csv(file_path)\n",
        "\n",
        "#number of rows and columns\n",
        "print(\"Number of rows:\", data.shape[0])\n",
        "print(\"Number of columns:\", data.shape[1])\n",
        "\n",
        "\n"
      ]
    },
    {
      "cell_type": "markdown",
      "metadata": {
        "id": "4riwkbUJ1xR9"
      },
      "source": [
        "### 2. Data Diversity\n",
        "\n",
        "Use Python to identify how many unique values each column in your data has.  Use Python to identify which column has the greatest number of distinct values (aka the most diversity)?  If your data has a unique identifier (e.g. a person or visit or record ID) then find the column with the next most number of unique values."
      ]
    },
    {
      "cell_type": "code",
      "execution_count": 8,
      "metadata": {
        "id": "XrBthDQx1xR9",
        "outputId": "f6f3a612-142d-43b9-a1af-7f007d71ca40",
        "colab": {
          "base_uri": "https://localhost:8080/"
        }
      },
      "outputs": [
        {
          "output_type": "stream",
          "name": "stdout",
          "text": [
            "Number of unique values per column:\n",
            "Year                                   1\n",
            "State                                  1\n",
            "County                                51\n",
            "HAI                                    1\n",
            "Operative_Procedure                   58\n",
            "Facility_ID                          328\n",
            "Facility_Name                        326\n",
            "Hospital_Category_RiskAdjustment       2\n",
            "Facility_Type                          6\n",
            "Procedure_Count                      870\n",
            "Infections_Reported                   72\n",
            "Infections_Predicted                 734\n",
            "SIR                                  451\n",
            "SIR_CI_95_Lower_Limit                166\n",
            "SIR_CI_95_Upper_Limit               1203\n",
            "Comparison                             3\n",
            "Met_2020_Goal                          2\n",
            "SIR_2015                             454\n",
            "Notes                                  1\n",
            "dtype: int64\n",
            "\n",
            "Column with the most unique values: SIR_CI_95_Upper_Limit (1203 unique values)\n"
          ]
        }
      ],
      "source": [
        "# Unique values in each column\n",
        "unique_counts = data.nunique()\n",
        "\n",
        "# Number of unique values per column\n",
        "print(\"Number of unique values per column:\")\n",
        "print(unique_counts)\n",
        "\n",
        "# Column with the greatest number of unique values\n",
        "most_unique_col = unique_counts.idxmax()\n",
        "most_unique_count = unique_counts.max()\n",
        "\n",
        "print(f\"\\nColumn with the most unique values: {most_unique_col} ({most_unique_count} unique values)\")\n",
        "\n",
        "# If the column with the most unique values is an identifier, find the next most diverse column\n",
        "if most_unique_count == len(data):\n",
        "    next_most_unique_col = unique_counts.nlargest(2).idxmin()\n",
        "    next_most_unique_count = unique_counts.nlargest(2).iloc[-1]\n",
        "    print(f\"\\nNext most diverse column: {next_most_unique_col} ({next_most_unique_count} unique values)\")\n"
      ]
    },
    {
      "cell_type": "markdown",
      "metadata": {
        "id": "2x_Y8VhD1xR9"
      },
      "source": [
        "### 3. Data Redundancy\n",
        "\n",
        "Use Python to identify any columns in your data where the value for every row is the same.  For example, if you had a gender column and all the rows said 'M', then you would want to write the code that helped you determine that."
      ]
    },
    {
      "cell_type": "code",
      "execution_count": 9,
      "metadata": {
        "id": "JcQlGl6a1xR9",
        "outputId": "4674905f-07f9-4bda-a757-8036af297a0a",
        "colab": {
          "base_uri": "https://localhost:8080/"
        }
      },
      "outputs": [
        {
          "output_type": "stream",
          "name": "stdout",
          "text": [
            "Columns where all values are the same:\n",
            "['Year', 'State', 'HAI', 'Notes']\n"
          ]
        }
      ],
      "source": [
        "# Columns where all values are the same\n",
        "constant_columns = [col for col in data.columns if data[col].nunique() == 1]\n",
        "\n",
        "if constant_columns:\n",
        "    print(\"Columns where all values are the same:\")\n",
        "    print(constant_columns)\n",
        "else:\n",
        "    print(\"No columns have the same value for every row.\")\n"
      ]
    },
    {
      "cell_type": "markdown",
      "metadata": {
        "id": "Vg2q7_081xR9"
      },
      "source": [
        "### 4. Range of Values\n",
        "\n",
        "Your data almost certainly has some numeric columns that can be summed or averaged.  Create a histogram that shows the distribution of values for this column."
      ]
    },
    {
      "cell_type": "code",
      "execution_count": 11,
      "metadata": {
        "id": "vH8g11nZ1xR-",
        "outputId": "176a1f41-3d3c-42d4-b108-388c0f0d9cde",
        "colab": {
          "base_uri": "https://localhost:8080/",
          "height": 472
        }
      },
      "outputs": [
        {
          "output_type": "display_data",
          "data": {
            "text/plain": [
              "<Figure size 640x480 with 1 Axes>"
            ],
            "image/png": "[encoded data removed]"
          },
          "metadata": {}
        }
      ],
      "source": [
        "import matplotlib.pyplot as plt\n",
        "import pandas as pd\n",
        "# Numeric column\n",
        "numeric_column = 'SIR'\n",
        "file_path = '/content/drive/My Drive/ca_ssi_adult_odp_2023.csv'\n",
        "data = pd.read_csv(file_path)\n",
        "# Plot the histogram\n",
        "plt.figure\n",
        "plt.hist(data[numeric_column], color='skyblue', edgecolor='black')\n",
        "plt.title(f'Distribution of {numeric_column}')\n",
        "plt.xlabel(numeric_column)\n",
        "plt.ylabel('Frequency')\n",
        "plt.show()\n",
        "\n"
      ]
    },
    {
      "cell_type": "markdown",
      "metadata": {
        "id": "qLpCAw631xR-"
      },
      "source": [
        "### 5. Discussion\n",
        "\n",
        "Do any additional exploration of this data that you think may be interesting and include your code here.  Then go onto Slack and make a post about what you've observed.  Share your observation.  Share your code, if you like.  Share a screenshot of the data or a chart based on the data.\n",
        "\n",
        "Then comment on at least two other people's observations that they share on Slack.  (Use the reply as thread option in Slack to keep the conversation organized.)"
      ]
    },
    {
      "cell_type": "code",
      "source": [
        "from scipy.stats import zscore\n",
        "\n",
        "# Calculate Z-scores for the 'Infections_Reported' column\n",
        "z_scores = zscore(data['Infections_Reported'])\n",
        "\n",
        "# Identify outliers (typically with Z-scores > 3 or < -3)\n",
        "outliers = data[abs(z_scores) > 3]\n",
        "\n",
        "# Display outliers\n",
        "print(\"Outliers detected:\")\n",
        "print(outliers)\n"
      ],
      "metadata": {
        "id": "QelfezqL-C66",
        "outputId": "5ac06758-149b-40a4-fda8-264907921c04",
        "colab": {
          "base_uri": "https://localhost:8080/"
        }
      },
      "execution_count": 12,
      "outputs": [
        {
          "output_type": "stream",
          "name": "stdout",
          "text": [
            "Outliers detected:\n",
            "    Year       State County                             HAI  \\\n",
            "0   2023  California    NaN  Surgical Site Infections (SSI)   \n",
            "3   2023  California    NaN  Surgical Site Infections (SSI)   \n",
            "5   2023  California    NaN  Surgical Site Infections (SSI)   \n",
            "6   2023  California    NaN  Surgical Site Infections (SSI)   \n",
            "9   2023  California    NaN  Surgical Site Infections (SSI)   \n",
            "10  2023  California    NaN  Surgical Site Infections (SSI)   \n",
            "13  2023  California    NaN  Surgical Site Infections (SSI)   \n",
            "18  2023  California    NaN  Surgical Site Infections (SSI)   \n",
            "21  2023  California    NaN  Surgical Site Infections (SSI)   \n",
            "25  2023  California    NaN  Surgical Site Infections (SSI)   \n",
            "26  2023  California    NaN  Surgical Site Infections (SSI)   \n",
            "\n",
            "                                  Operative_Procedure  Facility_ID  \\\n",
            "0                     STATE OF CALIFORNIA POOLED DATA          NaN   \n",
            "3   STATE OF CALIFORNIA POOLED DATA - Bile duct, l...          NaN   \n",
            "5   STATE OF CALIFORNIA POOLED DATA - Cesarean sec...          NaN   \n",
            "6     STATE OF CALIFORNIA POOLED DATA - Colon surgery          NaN   \n",
            "9   STATE OF CALIFORNIA POOLED DATA - Exploratory ...          NaN   \n",
            "10  STATE OF CALIFORNIA POOLED DATA - Gallbladder ...          NaN   \n",
            "13   STATE OF CALIFORNIA POOLED DATA - Hip prosthesis          NaN   \n",
            "18  STATE OF CALIFORNIA POOLED DATA - Knee prosthesis          NaN   \n",
            "21  STATE OF CALIFORNIA POOLED DATA - Open reducti...          NaN   \n",
            "25  STATE OF CALIFORNIA POOLED DATA - Small bowel ...          NaN   \n",
            "26    STATE OF CALIFORNIA POOLED DATA - Spinal fusion          NaN   \n",
            "\n",
            "   Facility_Name Hospital_Category_RiskAdjustment Facility_Type  \\\n",
            "0            NaN                              NaN           NaN   \n",
            "3            NaN                              NaN           NaN   \n",
            "5            NaN                              NaN           NaN   \n",
            "6            NaN                              NaN           NaN   \n",
            "9            NaN                              NaN           NaN   \n",
            "10           NaN                              NaN           NaN   \n",
            "13           NaN                              NaN           NaN   \n",
            "18           NaN                              NaN           NaN   \n",
            "21           NaN                              NaN           NaN   \n",
            "25           NaN                              NaN           NaN   \n",
            "26           NaN                              NaN           NaN   \n",
            "\n",
            "    Procedure_Count  Infections_Reported  Infections_Predicted    SIR  \\\n",
            "0            641158                 3742               4375.21  0.855   \n",
            "3              6615                  214                219.76  0.974   \n",
            "5            111243                  210                220.11  0.954   \n",
            "6             29407                  704                799.65  0.880   \n",
            "9             44306                  288                266.39  1.081   \n",
            "10            50580                  193                202.72  0.952   \n",
            "13            39105                  226                258.01  0.876   \n",
            "18            45180                  177                174.97  1.012   \n",
            "21            39953                  279                296.56  0.941   \n",
            "25            24446                  436                504.46  0.864   \n",
            "26            40471                  308                327.04  0.942   \n",
            "\n",
            "    SIR_CI_95_Lower_Limit  SIR_CI_95_Upper_Limit Comparison Met_2020_Goal  \\\n",
            "0                    0.83                   0.88     Better            No   \n",
            "3                    0.85                   1.11       Same            No   \n",
            "5                    0.83                   1.09       Same            No   \n",
            "6                    0.82                   0.95     Better            No   \n",
            "9                    0.96                   1.21       Same            No   \n",
            "10                   0.82                   1.10       Same            No   \n",
            "13                   0.77                   1.00       Same            No   \n",
            "18                   0.87                   1.17       Same            No   \n",
            "21                   0.83                   1.06       Same            No   \n",
            "25                   0.79                   0.95     Better            No   \n",
            "26                   0.84                   1.05       Same            No   \n",
            "\n",
            "    SIR_2015 Notes  \n",
            "0       0.62   NaN  \n",
            "3       0.97   NaN  \n",
            "5       0.88   NaN  \n",
            "6       1.07   NaN  \n",
            "9       0.97   NaN  \n",
            "10      0.95   NaN  \n",
            "13      0.98   NaN  \n",
            "18      0.89   NaN  \n",
            "21      1.01   NaN  \n",
            "25      1.03   NaN  \n",
            "26      0.87   NaN  \n"
          ]
        }
      ]
    },
    {
      "cell_type": "markdown",
      "metadata": {
        "id": "MQ5dA78B1xR-"
      },
      "source": [
        "\n",
        "\n",
        "---\n",
        "\n",
        "\n",
        "\n",
        "## Submitting Your Work\n",
        "\n",
        "Submit your work as usual."
      ]
    },
    {
      "cell_type": "code",
      "execution_count": null,
      "metadata": {
        "id": "uNX3pS1K1xR-"
      },
      "outputs": [],
      "source": []
    }
  ],
  "metadata": {
    "celltoolbar": "Create Assignment",
    "kernelspec": {
      "display_name": "Python 3",
      "language": "python",
      "name": "python3"
    },
    "language_info": {
      "codemirror_mode": {
        "name": "ipython",
        "version": 3
      },
      "file_extension": ".py",
      "mimetype": "text/x-python",
      "name": "python",
      "nbconvert_exporter": "python",
      "pygments_lexer": "ipython3",
      "version": "3.6.7"
    },
    "colab": {
      "provenance": []
    }
  },
  "nbformat": 4,
  "nbformat_minor": 0
}