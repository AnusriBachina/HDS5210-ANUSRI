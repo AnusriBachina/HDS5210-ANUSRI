{
  "cells": [
    {
      "cell_type": "markdown",
      "metadata": {
        "nbgrader": {
          "grade": false,
          "grade_id": "cell-fc1c39d0d6f8b82a",
          "locked": true,
          "schema_version": 1,
          "solution": false
        },
        "id": "sptI3q_m4i8_"
      },
      "source": [
        "# Week 14 Review Assignmnet\n",
        "\n",
        "For the questions below, we're going to refer exclusively to an HHCAPS survey data set that is available in `/data/hhcaps.csv`.  Use whatever commands you want to calculate the information required to get to the answer.  Then, enter your answer in the answers cell as usual.\n",
        "\n",
        "**NOTE: Enter your answers as string values (inside quotation marks \"\") even if the answer is actually numeric.**\n",
        "\n",
        "---\n",
        "---\n"
      ]
    },
    {
      "cell_type": "code",
      "execution_count": 2,
      "metadata": {
        "nbgrader": {
          "grade": false,
          "grade_id": "intro",
          "locked": true,
          "schema_version": 1,
          "solution": false
        },
        "id": "lfCMidn84i9A"
      },
      "outputs": [],
      "source": [
        "%matplotlib inline\n",
        "import pandas as pd\n",
        "\n",
        "hhcaps = pd.read_csv('https://hds5210-data.s3.amazonaws.com/hhcaps.csv')"
      ]
    },
    {
      "cell_type": "markdown",
      "metadata": {
        "nbgrader": {
          "grade": false,
          "grade_id": "q01-intro",
          "locked": true,
          "schema_version": 1,
          "solution": false
        },
        "id": "vtl_E34v4i9A"
      },
      "source": [
        "## #01 -\n",
        "\n",
        "How many columns does this file contain?"
      ]
    },
    {
      "cell_type": "code",
      "execution_count": 3,
      "metadata": {
        "id": "R9BzgzNO4i9B",
        "outputId": "d33de3c7-facd-4063-c974-aeac6e9649c5",
        "colab": {
          "base_uri": "https://localhost:8080/"
        }
      },
      "outputs": [
        {
          "output_type": "execute_result",
          "data": {
            "text/plain": [
              "(12000, 39)"
            ]
          },
          "metadata": {},
          "execution_count": 3
        }
      ],
      "source": [
        "# Write some code to figure it out\n",
        "hhcaps.shape"
      ]
    },
    {
      "cell_type": "code",
      "execution_count": 7,
      "metadata": {
        "nbgrader": {
          "grade": false,
          "grade_id": "q01-solution",
          "locked": false,
          "schema_version": 1,
          "solution": true
        },
        "id": "d3q_dHKG4i9B"
      },
      "outputs": [],
      "source": [
        "answers={}\n",
        "answers['40.1'] = 39 # NOTE: Use a number, not string to answer this question"
      ]
    },
    {
      "cell_type": "markdown",
      "metadata": {
        "nbgrader": {
          "grade": false,
          "grade_id": "q02-intro",
          "locked": true,
          "schema_version": 1,
          "solution": false
        },
        "id": "7-ta-7pr4i9C"
      },
      "source": [
        "## #02 -\n",
        "\n",
        "How many different values for State are there in this file?"
      ]
    },
    {
      "cell_type": "code",
      "execution_count": 8,
      "metadata": {
        "id": "C3wT6FLk4i9C",
        "outputId": "f6849ba0-878b-4ea4-dc7e-3cf33e1c0aba",
        "colab": {
          "base_uri": "https://localhost:8080/"
        }
      },
      "outputs": [
        {
          "output_type": "execute_result",
          "data": {
            "text/plain": [
              "55"
            ]
          },
          "metadata": {},
          "execution_count": 8
        }
      ],
      "source": [
        "# Write some code to figure it out\n",
        "distinct_states = hhcaps['State'].unique()\n",
        "len(distinct_states)"
      ]
    },
    {
      "cell_type": "code",
      "execution_count": 9,
      "metadata": {
        "nbgrader": {
          "grade": false,
          "grade_id": "q02-solution",
          "locked": false,
          "schema_version": 1,
          "solution": true
        },
        "id": "mFyzwBY04i9D"
      },
      "outputs": [],
      "source": [
        "answers['40.2'] = 55 # NOTE: Use a number, not a string to answer this question"
      ]
    },
    {
      "cell_type": "markdown",
      "metadata": {
        "nbgrader": {
          "grade": false,
          "grade_id": "q03-intro",
          "locked": true,
          "schema_version": 1,
          "solution": false
        },
        "id": "4UpZHwrt4i9D"
      },
      "source": [
        "## #03 -\n",
        "\n",
        "Which of those State values has the highest frequency of occurence?"
      ]
    },
    {
      "cell_type": "code",
      "execution_count": 10,
      "metadata": {
        "nbgrader": {
          "grade": false,
          "grade_id": "q03-solution",
          "locked": false,
          "schema_version": 1,
          "solution": true
        },
        "id": "IhPxclct4i9E",
        "outputId": "ef5cf4a8-9a77-4b3d-e16e-1c5bbe307ef6",
        "colab": {
          "base_uri": "https://localhost:8080/"
        }
      },
      "outputs": [
        {
          "output_type": "stream",
          "name": "stdout",
          "text": [
            "State\n",
            "TX    2518\n",
            "CA    1319\n",
            "FL    1069\n",
            "OH     781\n",
            "IL     735\n",
            "MI     597\n",
            "PA     425\n",
            "MA     261\n",
            "OK     256\n",
            "VA     244\n",
            "IN     229\n",
            "MN     197\n",
            "LA     195\n",
            "CO     187\n",
            "NC     174\n",
            "AR     172\n",
            "AZ     169\n",
            "MO     169\n",
            "IA     163\n",
            "AL     152\n",
            "NV     143\n",
            "NY     141\n",
            "TN     140\n",
            "WI     119\n",
            "KS     117\n",
            "GA     106\n",
            "KY     104\n",
            "UT      98\n",
            "CT      91\n",
            "NM      77\n",
            "NE      75\n",
            "SC      70\n",
            "WA      63\n",
            "WV      61\n",
            "OR      57\n",
            "MD      53\n",
            "MS      48\n",
            "NJ      47\n",
            "ID      45\n",
            "PR      45\n",
            "SD      33\n",
            "NH      31\n",
            "DC      28\n",
            "MT      27\n",
            "RI      27\n",
            "WY      26\n",
            "DE      26\n",
            "ME      24\n",
            "ND      18\n",
            "HI      16\n",
            "AK      14\n",
            "VT      11\n",
            "GU       4\n",
            "MP       2\n",
            "VI       1\n",
            "Name: count, dtype: int64\n"
          ]
        }
      ],
      "source": [
        "# Write some code to figure it out\n",
        "state_counts = hhcaps['State'].value_counts()\n",
        "print(state_counts)"
      ]
    },
    {
      "cell_type": "code",
      "execution_count": 16,
      "metadata": {
        "nbgrader": {
          "grade": true,
          "grade_id": "q03-test",
          "locked": true,
          "points": 2,
          "schema_version": 1,
          "solution": false
        },
        "id": "PlJN-wYc4i9E"
      },
      "outputs": [],
      "source": [
        "answers['40.3'] = \"TX\""
      ]
    },
    {
      "cell_type": "markdown",
      "metadata": {
        "nbgrader": {
          "grade": false,
          "grade_id": "q04-intro",
          "locked": true,
          "schema_version": 1,
          "solution": false
        },
        "id": "--id1cJr4i9E"
      },
      "source": [
        "## #04 -\n",
        "\n",
        "Which of those State values has the best average performance on the `Star Rating for health team communicated well with them` score?"
      ]
    },
    {
      "cell_type": "code",
      "execution_count": 11,
      "metadata": {
        "nbgrader": {
          "grade": false,
          "grade_id": "q04-solution",
          "locked": false,
          "schema_version": 1,
          "solution": true
        },
        "id": "mNnutV8h4i9F",
        "outputId": "da769be6-7622-4d98-ad79-6bc83fb10ad8",
        "colab": {
          "base_uri": "https://localhost:8080/"
        }
      },
      "outputs": [
        {
          "output_type": "stream",
          "name": "stdout",
          "text": [
            "State\n",
            "AK    3.500000\n",
            "AL    4.507692\n",
            "AR    4.384615\n",
            "AZ    3.277108\n",
            "CA    3.104508\n",
            "CO    3.770833\n",
            "CT    3.550725\n",
            "DC    2.000000\n",
            "DE    3.846154\n",
            "FL    3.645228\n",
            "GA    3.917526\n",
            "GU         NaN\n",
            "HI    3.818182\n",
            "IA    4.204082\n",
            "ID    3.972222\n",
            "IL    3.667820\n",
            "IN    4.030075\n",
            "KS    4.166667\n",
            "KY    4.484536\n",
            "LA    4.487805\n",
            "MA    3.817308\n",
            "MD    3.695652\n",
            "ME    4.650000\n",
            "MI    3.716279\n",
            "MN    3.544554\n",
            "MO    4.300885\n",
            "MP         NaN\n",
            "MS    4.636364\n",
            "MT    4.333333\n",
            "NC    4.138158\n",
            "ND    4.250000\n",
            "NE    4.250000\n",
            "NH    4.136364\n",
            "NJ    3.833333\n",
            "NM    3.714286\n",
            "NV    3.000000\n",
            "NY    3.378641\n",
            "OH    3.666667\n",
            "OK    4.128655\n",
            "OR    3.409091\n",
            "PA    4.148325\n",
            "PR    2.846154\n",
            "RI    3.947368\n",
            "SC    4.333333\n",
            "SD    4.166667\n",
            "TN    4.372881\n",
            "TX    3.811648\n",
            "UT    3.603774\n",
            "VA    3.865772\n",
            "VI    4.000000\n",
            "VT    4.272727\n",
            "WA    3.642857\n",
            "WI    4.101449\n",
            "WV    4.647059\n",
            "WY    3.833333\n",
            "Name: Star Rating for health team communicated well with them, dtype: float64\n"
          ]
        }
      ],
      "source": [
        "# Write some code to figure it out\n",
        "state_avg_rating = hhcaps.groupby('State')['Star Rating for health team communicated well with them'].mean()\n",
        "print(state_avg_rating)\n"
      ]
    },
    {
      "cell_type": "code",
      "execution_count": 12,
      "metadata": {
        "nbgrader": {
          "grade": true,
          "grade_id": "q04-test",
          "locked": true,
          "points": 2,
          "schema_version": 1,
          "solution": false
        },
        "id": "cws3Qz6T4i9F"
      },
      "outputs": [],
      "source": [
        "answers['40.4'] = \"ME\""
      ]
    },
    {
      "cell_type": "markdown",
      "metadata": {
        "nbgrader": {
          "grade": false,
          "grade_id": "q05-intro",
          "locked": true,
          "schema_version": 1,
          "solution": false
        },
        "id": "0oeRPmNA4i9F"
      },
      "source": [
        "## #05 -\n",
        "\n",
        "What was the average score on `Star Rating for how patients rated overall care from agency` for providers listed as having a `Type of Ownership` of `Hospital Based Program`\n",
        "\n",
        "**NOTE: Enter your answer with two decimal precision: 0.00**"
      ]
    },
    {
      "cell_type": "code",
      "execution_count": 13,
      "metadata": {
        "nbgrader": {
          "grade": false,
          "grade_id": "q05-solution",
          "locked": false,
          "schema_version": 1,
          "solution": true
        },
        "id": "2SXaIBJf4i9F",
        "outputId": "21df9f56-cbe2-4974-9943-0d81ded8890c",
        "colab": {
          "base_uri": "https://localhost:8080/"
        }
      },
      "outputs": [
        {
          "output_type": "stream",
          "name": "stdout",
          "text": [
            "3.6925207756232687\n"
          ]
        }
      ],
      "source": [
        "# Write some code to figure it out\n",
        "hospital_based_programs = hhcaps[hhcaps['Type of Ownership'] == 'Hospital Based Program']\n",
        "avg_score = hospital_based_programs['Star Rating for how patients rated overall care from agency'].mean()\n",
        "print(avg_score)"
      ]
    },
    {
      "cell_type": "code",
      "execution_count": 14,
      "metadata": {
        "nbgrader": {
          "grade": true,
          "grade_id": "q05-test",
          "locked": true,
          "points": 2,
          "schema_version": 1,
          "solution": false
        },
        "id": "EPHfkWGQ4i9F"
      },
      "outputs": [],
      "source": [
        "answers['40.5'] = 3.69 # NOTE: Write answer as number in form N.NN (No additional digits)"
      ]
    },
    {
      "cell_type": "markdown",
      "metadata": {
        "id": "ZJRO7E-K4i9F"
      },
      "source": [
        "---\n",
        "\n",
        "Checking Your Work\n",
        "---\n",
        "\n",
        "After completing your work above and running each cell, you can check your answers by running the code below.\n",
        "\n",
        "The easiest way to do this is to use the `Kernel` -> `Restart Kernel and Run All Cells` menu option. This option restarts Python and runs every cell from top to bottom until it encounters an exception of some kind.  It will stop after running the cell below and outputing a summary of how many answers you have correct or incorrect.\n"
      ]
    },
    {
      "cell_type": "code",
      "execution_count": 17,
      "metadata": {
        "id": "Dhg1jnY-4i9F",
        "outputId": "9929e004-f61a-4010-c6c1-e6026c8e0ae4",
        "colab": {
          "base_uri": "https://localhost:8080/"
        }
      },
      "outputs": [
        {
          "output_type": "stream",
          "name": "stdout",
          "text": [
            "Question 40.1 is CORRECT\n",
            "Question 40.2 is CORRECT\n",
            "Question 40.3 is CORRECT\n",
            "Question 40.4 is CORRECT\n",
            "Question 40.5 is CORRECT\n"
          ]
        }
      ],
      "source": [
        "import pickle\n",
        "\n",
        "data = b\"\\x80\\x04\\x95?\\x00\\x00\\x00\\x00\\x00\\x00\\x00}\\x94(\\x8c\\x0440.1\\x94K'\\x8c\\x0440.2\\x94K7\\x8c\\x0440.3\\x94\\x8c\\x02TX\\x94\\x8c\\x0440.4\\x94\\x8c\\x02ME\\x94\\x8c\\x0440.5\\x94G@\\r\\x85\\x1e\\xb8Q\\xeb\\x85u.\"\n",
        "result = pickle.loads(data)\n",
        "\n",
        "for key in result:\n",
        "  if answers[key] == result[key]:\n",
        "    print(f\"Question {key} is CORRECT\")\n",
        "  else:\n",
        "    print(f\"Question {key} is INCORRECT\")"
      ]
    },
    {
      "cell_type": "markdown",
      "metadata": {
        "id": "62naTgS74i9G"
      },
      "source": [
        "---\n",
        "\n",
        "## Check your work above\n",
        "\n",
        "If you didn't get them all correct, take a few minutes to think through those that aren't correct.\n",
        "\n",
        "\n",
        "## Submitting Your Work\n",
        "\n",
        "In order to submit your work, you'll need to save this notebook file back to GitHub.  To do that in Google Colab:\n",
        "1. File -> Save a Copy in GitHub\n",
        "2. Make sure your HDS5210 repository is selected\n",
        "3. Make sure the file name includes the week number like this: `week14/week14_assignment_1.ipynb`\n",
        "4. Add a commit message that means something\n",
        "\n",
        "**Be sure week names are lowercase and use a two digit week number!!**\n",
        "\n",
        "**Be sure you use the same file name provided by the instructor!!**\n",
        "\n"
      ]
    }
  ],
  "metadata": {
    "celltoolbar": "Create Assignment",
    "kernelspec": {
      "display_name": "Python 3 (ipykernel)",
      "language": "python",
      "name": "python3"
    },
    "language_info": {
      "codemirror_mode": {
        "name": "ipython",
        "version": 3
      },
      "file_extension": ".py",
      "mimetype": "text/x-python",
      "name": "python",
      "nbconvert_exporter": "python",
      "pygments_lexer": "ipython3",
      "version": "3.13.0"
    },
    "colab": {
      "provenance": []
    }
  },
  "nbformat": 4,
  "nbformat_minor": 0
}