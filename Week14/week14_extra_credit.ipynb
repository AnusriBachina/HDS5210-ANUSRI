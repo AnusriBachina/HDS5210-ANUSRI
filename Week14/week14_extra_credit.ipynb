{
  "cells": [
    {
      "cell_type": "markdown",
      "metadata": {
        "id": "FDWnjKoHU8nJ"
      },
      "source": [
        "# Week 14 Extra Credit - How will ChatGPT do on your final project idea?\n",
        "\n",
        "This extra credit assignment is entirely optional.  You do not need to do it.\n",
        "\n",
        "If you would like the opportunity to earn up to 5 extra credit points, complete this assignment and submit it via GitHub as normal before Monday, November 27 at 11:59 PM CST.  No late submissions will be accepted.  The file must be saved to your week13 folder in GitHub."
      ]
    },
    {
      "cell_type": "markdown",
      "metadata": {
        "id": "l5uUqs-4U8nK"
      },
      "source": [
        "## Part 1: Have a conversation with ChatGPT\n",
        "\n",
        "I want you to have a conversation with ChatGPT about your final project idea.  Find out what it thinks about your idea and if it has any data sources (URLs for specific sites) that could be helpful.  Below, either include copy/paste the chat history from your conversation or include a link to the shared chat.  (ChatGPT has an [option to share a link to a specific conversation](https://help.openai.com/en/articles/7925741-chatgpt-shared-links-faq).  It's the up-arrow icon in the upper-right corner of your chat window.)\n",
        "\n",
        "Take this conversationw with ChatGPT as far as you want, but at least ask three or four follow-up questions to refine the information you're getting back.\n",
        "\n",
        "If it starts giving you links to information, don't assume they're going to work. Remember that ChatGPT isn't perfect. So, follow the links and make sure there's information there that matches what ChatGPT says you will find."
      ]
    },
    {
      "cell_type": "markdown",
      "metadata": {
        "id": "t5gakzXLU8nL"
      },
      "source": [
        "**RESPONSE**\n",
        "\n",
        "*Enter your conversation or link to your chat here*\n",
        "\n",
        "\n",
        "https://chatgpt.com/share/674b9a76-6074-800d-a8ad-4fb79ad9e6e3"
      ]
    },
    {
      "cell_type": "markdown",
      "metadata": {
        "id": "c_nTb5G2U8nL"
      },
      "source": [
        "### Part 2: Your reflection\n",
        "\n",
        "Below, tell me what you think ChatGPT did well or not well in your conversation.  Was it good at finding data that you needed?  Was it good at finding actual links that worked?  Did its responses make sense to you?  What did it do well / not well?\n",
        "\n",
        "Your response below should be several sentences.  If you don't have enough feedback, expand your conversation with ChatGPT.  Ask it refine your project idea or start writing code for you.  See what it can do."
      ]
    },
    {
      "cell_type": "markdown",
      "metadata": {
        "id": "JLRXAhneU8nM"
      },
      "source": [
        "**RESPONSE**\n",
        "\n",
        "*Enter your reflections on the ChatGPT conversation here*\n",
        "\n",
        "\n",
        "ChatGPT was effective in providing detailed, relevant insights and actionable suggestions for my project. It offered a comprehensive perspective on data integration and visualization techniques that aligned well with my goals. The links provided were clear, although I didn’t check their functionality in this session. Its responses were logical, clear, and easy to understand. I appreciated how it tailored recommendations to my project needs and offered practical advice for enhancing my analysis. However, I’d like to explore its coding capabilities next—maybe it can help with data preprocessing or visualization scripts."
      ]
    },
    {
      "cell_type": "markdown",
      "metadata": {
        "id": "Jjv6FV2sU8nN"
      },
      "source": [
        "### Submitting\n",
        "\n",
        "Submit this as normal to GitHub with the name `week14/week14_extra_credit.ipynb`"
      ]
    },
    {
      "cell_type": "markdown",
      "metadata": {
        "id": "OOA5AfywU8nN"
      },
      "source": []
    }
  ],
  "metadata": {
    "language_info": {
      "name": "python"
    },
    "colab": {
      "provenance": []
    }
  },
  "nbformat": 4,
  "nbformat_minor": 0
}